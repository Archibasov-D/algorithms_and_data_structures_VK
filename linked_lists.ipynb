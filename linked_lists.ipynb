{
  "nbformat": 4,
  "nbformat_minor": 0,
  "metadata": {
    "colab": {
      "provenance": [],
      "authorship_tag": "ABX9TyMJa3ymHs8vefpWQUzMx9y4",
      "include_colab_link": true
    },
    "kernelspec": {
      "name": "python3",
      "display_name": "Python 3"
    },
    "language_info": {
      "name": "python"
    }
  },
  "cells": [
    {
      "cell_type": "markdown",
      "metadata": {
        "id": "view-in-github",
        "colab_type": "text"
      },
      "source": [
        "<a href=\"https://colab.research.google.com/github/Archibasov-D/algorithms_and_data_structures_VK/blob/main/linked_lists.ipynb\" target=\"_parent\"><img src=\"https://colab.research.google.com/assets/colab-badge.svg\" alt=\"Open In Colab\"/></a>"
      ]
    },
    {
      "cell_type": "code",
      "execution_count": null,
      "metadata": {
        "id": "l2wmQigsBaBG"
      },
      "outputs": [],
      "source": [
        "import numpy as np"
      ]
    },
    {
      "cell_type": "code",
      "source": [
        "# Односвязный список\n",
        "class Node:\n",
        "  def __init__(self, data):\n",
        "    self.data = data\n",
        "    self.next = None\n",
        "\n",
        "class Linked_list:\n",
        "  def __init__(self, data):\n",
        "    self.head = Node(data)\n",
        "\n",
        "  def add_front(self, data):\n",
        "    old_head = self.head\n",
        "    self.head = Node(data)\n",
        "    self.head.next = old_head\n",
        "\n",
        "  def print_list(self):\n",
        "    current_node = self.head\n",
        "    result = f'{current_node.data}'\n",
        "    while current_node.next:\n",
        "      current_node = current_node.next\n",
        "      result = result + f' {current_node.data}'\n",
        "    print(result)\n",
        "\n",
        "  def add_back(self, data):\n",
        "    current_node = self.head\n",
        "    while current_node.next:\n",
        "      current_node = current_node.next\n",
        "    current_node.next = Node(data)\n",
        "  def delete_front(self):\n",
        "    self.head = self.head.next\n",
        "\n"
      ],
      "metadata": {
        "id": "WU5qs2gkCdgZ"
      },
      "execution_count": null,
      "outputs": []
    },
    {
      "cell_type": "code",
      "source": [
        "a = Linked_list(1)\n",
        "a.add_front(2)\n",
        "a.add_front(3)\n",
        "a.add_front(4)\n",
        "a.add_front(5)\n",
        "a.add_back(10)\n",
        "a.add_back(11)\n",
        "a.delete_front()\n",
        "a.delete_front()"
      ],
      "metadata": {
        "id": "Mwsd5fP4aR_8"
      },
      "execution_count": null,
      "outputs": []
    },
    {
      "cell_type": "code",
      "source": [
        "print(a.head.data)"
      ],
      "metadata": {
        "colab": {
          "base_uri": "https://localhost:8080/"
        },
        "id": "7hgcM-RXg_8i",
        "outputId": "cd3f904d-49b5-451b-d97e-5d0b72fa2f36"
      },
      "execution_count": null,
      "outputs": [
        {
          "output_type": "stream",
          "name": "stdout",
          "text": [
            "3\n"
          ]
        }
      ]
    },
    {
      "cell_type": "code",
      "source": [
        "a.print_list()"
      ],
      "metadata": {
        "colab": {
          "base_uri": "https://localhost:8080/"
        },
        "id": "3rRLcB5BayG3",
        "outputId": "67471a6a-5049-4f50-a925-46fa2cdaa0d7"
      },
      "execution_count": null,
      "outputs": [
        {
          "output_type": "stream",
          "name": "stdout",
          "text": [
            "3 2 1 10 11\n"
          ]
        }
      ]
    }
  ]
}